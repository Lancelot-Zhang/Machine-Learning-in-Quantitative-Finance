{
 "cells": [
  {
   "cell_type": "code",
   "execution_count": 21,
   "metadata": {
    "id": "uz0Ve6rKGn3k"
   },
   "outputs": [],
   "source": [
    "# load packages\n",
    "import pandas as pd\n",
    "import numpy as np\n",
    "import matplotlib.pyplot as plt"
   ]
  },
  {
   "cell_type": "code",
   "execution_count": 22,
   "metadata": {},
   "outputs": [
    {
     "name": "stdout",
     "output_type": "stream",
     "text": [
      "                  time    open   close    high     low       volume  \\\n",
      "1498  2020-01-24 00:00  8408.9  8437.9  8524.5  8242.0  1210.267018   \n",
      "1497  2020-01-25 00:00  8438.0  8341.2  8446.6  8275.8   710.917276   \n",
      "1496  2020-01-26 00:00  8341.2  8614.0  8619.6  8300.8   959.171707   \n",
      "1495  2020-01-27 00:00  8614.0  8911.3  8998.8  8577.8  1521.439641   \n",
      "1494  2020-01-28 00:00  8911.0  9375.0  9394.1  8888.8  1880.775733   \n",
      "\n",
      "          turnover  \n",
      "1498  1.015488e+07  \n",
      "1497  5.929845e+06  \n",
      "1496  8.133014e+06  \n",
      "1495  1.335641e+07  \n",
      "1494  1.705490e+07  \n"
     ]
    }
   ],
   "source": [
    "# read Low frequency data in 1 day\n",
    "data_1d = pd.read_excel('./datasets/BTC-USDT-1d.xlsx').sort_values(by='time')\n",
    "print(data_1d.head())"
   ]
  },
  {
   "cell_type": "code",
   "execution_count": 23,
   "metadata": {
    "id": "74rWpZwHGn3m"
   },
   "outputs": [
    {
     "name": "stdout",
     "output_type": "stream",
     "text": [
      "                   time    open   close    high     low     volume  \\\n",
      "35953  2020-01-23 23:00  8402.7  8409.0  8427.9  8356.8  60.275855   \n",
      "35952  2020-01-24 00:00  8408.9  8408.8  8418.2  8389.9  46.796430   \n",
      "35951  2020-01-24 01:00  8408.6  8360.0  8420.1  8359.9  40.631096   \n",
      "35950  2020-01-24 02:00  8359.9  8295.8  8366.4  8276.4  97.234574   \n",
      "35949  2020-01-24 03:00  8295.8  8321.4  8348.7  8285.0  72.503593   \n",
      "\n",
      "            turnover  \n",
      "35953  504968.371971  \n",
      "35952  393189.050588  \n",
      "35951  341180.443432  \n",
      "35950  808689.430707  \n",
      "35949  603016.797060  \n"
     ]
    }
   ],
   "source": [
    "# read high frequency data in 1 hour\n",
    "data_1h = pd.read_excel('./datasets/BTC-USDT-1h.xlsx').sort_values(by='time')\n",
    "print(data_1h.head())"
   ]
  },
  {
   "cell_type": "code",
   "execution_count": 24,
   "metadata": {},
   "outputs": [
    {
     "name": "stdout",
     "output_type": "stream",
     "text": [
      "                   time    open   close    high     low     volume  \\\n",
      "74999  2020-02-15 19:10  9928.0  9928.7  9936.0  9927.5   4.950662   \n",
      "74998  2020-02-15 19:15  9928.7  9924.2  9929.4  9921.5   2.594263   \n",
      "74997  2020-02-15 19:20  9924.0  9908.9  9924.3  9906.8  10.040123   \n",
      "74996  2020-02-15 19:25  9908.9  9921.3  9925.0  9908.9   3.585131   \n",
      "74995  2020-02-15 19:30  9921.3  9916.4  9923.1  9911.9   3.916223   \n",
      "\n",
      "           turnover  \n",
      "74999  49172.961977  \n",
      "74998  25752.203115  \n",
      "74997  99548.948650  \n",
      "74996  35558.220198  \n",
      "74995  38839.672064  \n"
     ]
    }
   ],
   "source": [
    "# read high frequency data in 5 minutes\n",
    "data_5m = pd.read_excel('./datasets/BTC-USDT-5m.xlsx').sort_values(by='time')\n",
    "print(data_5m.head())"
   ]
  },
  {
   "cell_type": "code",
   "execution_count": 25,
   "metadata": {},
   "outputs": [],
   "source": [
    "# Power variation\n",
    "def power_variation(X, p, delta_n, c, t):\n",
    "    \"\"\"\n",
    "    Compute the power variation of a time series X\n",
    "    :param X: time series\n",
    "    :param p: power\n",
    "    :param delta_n: number of division from t-1 to t\n",
    "    :param c: constant\n",
    "    :param t: time index\n",
    "    :return: power variation\n",
    "    \"\"\"\n",
    "\n",
    "    # Calculate the increment of X\n",
    "    # x_t,i=X_t-1+i*delta_n-X_t-1+(i-1)*delta_n\n",
    "    increments = np.diff(X)\n",
    "\n",
    "    # Using delta_n to get the value of t\n",
    "    time = int(t / delta_n)\n",
    "\n",
    "    # Determine the cycle range\n",
    "    n_intervals = int(1 / delta_n)\n",
    "\n",
    "    # Calculate the power variation\n",
    "    if p < 2:\n",
    "        truncated_increments = increments[time-n_intervals:time][np.abs(increments[time:time+n_intervals]) <= c]\n",
    "        power_variation = np.sum(np.power(truncated_increments, p))\n",
    "        return power_variation\n",
    "    \n",
    "    elif p >= 2:\n",
    "        power_variation = np.sum(np.power(np.abs(increments[time-n_intervals:time]), p))\n",
    "        return power_variation\n",
    "\n",
    "# Activity Signature Function (ASF)\n",
    "def activity_signature_function(X, p, delta_n, c, t):\n",
    "    \"\"\"\n",
    "    Compute the activity signature function of a time series X\n",
    "    :param X: time series\n",
    "    :param p: power\n",
    "    :param delta_n: number of division from t-1 to t\n",
    "    :param c: constant\n",
    "    :param t: time index\n",
    "    :return: activity signature function\n",
    "    \"\"\"\n",
    "\n",
    "    # Check p, p is a positive number\n",
    "    if p <= 0:\n",
    "        raise ValueError(\"p must be a positive number\")\n",
    "    \n",
    "    # Calculate activity signature function\n",
    "    numerator = np.log(2) * p\n",
    "    part_1 = np.log(2)\n",
    "    part_2 = np.log(power_variation(X, p, delta_n, c, t))\n",
    "    part_3 = np.log(power_variation(X, p, 2* delta_n, c, t))\n",
    "    denominator = part_1 * part_2 * part_3\n",
    "    activity_signature_function = numerator / denominator\n",
    "\n",
    "    return activity_signature_function"
   ]
  },
  {
   "cell_type": "code",
   "execution_count": 26,
   "metadata": {},
   "outputs": [
    {
     "name": "stdout",
     "output_type": "stream",
     "text": [
      "Activity Signature Function:  0.044684188690159034\n",
      "Estimation of c:  0.022342094345079517\n"
     ]
    }
   ],
   "source": [
    "# Use the features in X to calculate the log return \n",
    "data_1h['log_return'] = np.log(data_1h['close'] / data_1h['close'].shift(1))\n",
    "data_1h = data_1h.dropna()\n",
    "\n",
    "X = data_1h['log_return'].values\n",
    "p = 2\n",
    "delta_n = 1/24\n",
    "c = 5\n",
    "t = 1\n",
    "\n",
    "ASF = activity_signature_function(X, p, delta_n, c, t)\n",
    "print(\"Activity Signature Function: \", ASF)\n",
    "\n",
    "estimation_of_c = ASF / 2\n",
    "print(\"Estimation of c: \", estimation_of_c)"
   ]
  },
  {
   "cell_type": "code",
   "execution_count": 27,
   "metadata": {},
   "outputs": [
    {
     "name": "stdout",
     "output_type": "stream",
     "text": [
      "Activity Signature Function:  0.03926689098299126\n",
      "Estimation of c:  0.01963344549149563\n"
     ]
    }
   ],
   "source": [
    "# Use the features in X to calculate the log return\n",
    "data_5m['log_return'] = np.log(data_5m['close'] / data_5m['close'].shift(1))\n",
    "data_5m = data_5m.dropna()\n",
    "\n",
    "X = data_5m['log_return'].values\n",
    "p = 2\n",
    "delta_n = 1/288\n",
    "c = 5\n",
    "t = 1\n",
    "\n",
    "ASF = activity_signature_function(X, p, delta_n, c, t)\n",
    "print(\"Activity Signature Function: \", ASF)\n",
    "\n",
    "estimation_of_c = ASF / 2\n",
    "print(\"Estimation of c: \", estimation_of_c)"
   ]
  }
 ],
 "metadata": {
  "colab": {
   "provenance": []
  },
  "kernelspec": {
   "display_name": "base",
   "language": "python",
   "name": "python3"
  },
  "language_info": {
   "codemirror_mode": {
    "name": "ipython",
    "version": 3
   },
   "file_extension": ".py",
   "mimetype": "text/x-python",
   "name": "python",
   "nbconvert_exporter": "python",
   "pygments_lexer": "ipython3",
   "version": "3.11.5"
  }
 },
 "nbformat": 4,
 "nbformat_minor": 1
}
